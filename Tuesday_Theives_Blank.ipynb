{
 "cells": [
  {
   "cell_type": "markdown",
   "metadata": {},
   "source": [
    "# Functions, Scoping, Data Collections 1 & List Comprehensions"
   ]
  },
  {
   "attachments": {},
   "cell_type": "markdown",
   "metadata": {},
   "source": [
    "## Tasks Today:\n",
    "\n",
    "1) String Manipulation <br>\n",
    " &nbsp;&nbsp;&nbsp;&nbsp; a) strip() <br>\n",
    " &nbsp;&nbsp;&nbsp;&nbsp; b) title() <br>\n",
    "1) Working With Lists <br>\n",
    " &nbsp;&nbsp;&nbsp;&nbsp; a) min() <br>\n",
    " &nbsp;&nbsp;&nbsp;&nbsp; b) max() <br>\n",
    " &nbsp;&nbsp;&nbsp;&nbsp; c) sum() <br>\n",
    " &nbsp;&nbsp;&nbsp;&nbsp; d) sort() <br>\n",
    " &nbsp;&nbsp;&nbsp;&nbsp; e) Copying a List <br>\n",
    " &nbsp;&nbsp;&nbsp;&nbsp; i) Checking an Empty List <br>\n",
    " &nbsp;&nbsp;&nbsp;&nbsp; j) Removing Instances with a Loop <br>\n",
    "1) List Comprehensions <br>\n",
    "2) Tuples <br>\n",
    " &nbsp;&nbsp;&nbsp;&nbsp; a) sorted() <br>\n",
    "1) Functions <br>\n",
    " &nbsp;&nbsp;&nbsp;&nbsp; a) User-Defined vs. Built-In Functions <br>\n",
    " &nbsp;&nbsp;&nbsp;&nbsp; b) Accepting Parameters <br>\n",
    " &nbsp;&nbsp;&nbsp;&nbsp; c) Default Parameters <br>\n",
    " &nbsp;&nbsp;&nbsp;&nbsp; d) Making an Argument Optional <br>\n",
    " &nbsp;&nbsp;&nbsp;&nbsp; e) Keyword Arguments <br>\n",
    " &nbsp;&nbsp;&nbsp;&nbsp; f) Returning Values <br>\n",
    " &nbsp;&nbsp;&nbsp;&nbsp; g) *args & **kwargs<br>\n",
    " &nbsp;&nbsp;&nbsp;&nbsp; h) Docstring <br>\n",
    " &nbsp;&nbsp;&nbsp;&nbsp; i) Using a User Function in a Loop <br>\n",
    "1) Scope"
   ]
  },
  {
   "cell_type": "markdown",
   "metadata": {},
   "source": [
    "### String Manipulation"
   ]
  },
  {
   "attachments": {},
   "cell_type": "markdown",
   "metadata": {},
   "source": [
    "##### .lstrip() - Remove spaces on the left side of the string"
   ]
  },
  {
   "cell_type": "code",
   "execution_count": 14,
   "metadata": {},
   "outputs": [
    {
     "name": "stdout",
     "output_type": "stream",
     "text": [
      "m            mitchellzh\n",
      "itchellzh\n"
     ]
    }
   ],
   "source": [
    "# string.lstrip()\n",
    "# can pass argument to specify what characters to strip \n",
    "\n",
    "txt = 'm            mitchellzh'\n",
    "print(txt)\n",
    "\n",
    "new_txt = txt.lstrip(' m')\n",
    "print(new_txt)"
   ]
  },
  {
   "attachments": {},
   "cell_type": "markdown",
   "metadata": {},
   "source": [
    "##### .rstrip() - Remove spaces on the right side of the string"
   ]
  },
  {
   "cell_type": "code",
   "execution_count": 15,
   "metadata": {},
   "outputs": [
    {
     "name": "stdout",
     "output_type": "stream",
     "text": [
      "mitchellzh         ///\n",
      "mitchellzh         \n"
     ]
    }
   ],
   "source": [
    "# string.rstrip()\n",
    "txt = 'mitchellzh         ///'\n",
    "print(txt)\n",
    "\n",
    "new_txt = txt.rstrip('/')\n",
    "print(new_txt)"
   ]
  },
  {
   "attachments": {},
   "cell_type": "markdown",
   "metadata": {},
   "source": [
    "##### .strip() - Remove spaces at the beginning and at the end of the string"
   ]
  },
  {
   "cell_type": "code",
   "execution_count": 10,
   "metadata": {},
   "outputs": [
    {
     "name": "stdout",
     "output_type": "stream",
     "text": [
      "mitchellzh         ///\n",
      "mitchellzh\n"
     ]
    }
   ],
   "source": [
    "# string.strip()\n",
    "txt = 'mitchellzh         ///'\n",
    "print(txt)\n",
    "\n",
    "new_txt = txt.strip(' /')\n",
    "print(new_txt)"
   ]
  },
  {
   "attachments": {},
   "cell_type": "markdown",
   "metadata": {},
   "source": [
    "##### .title() - returns a string where the first character in every word is upper case"
   ]
  },
  {
   "cell_type": "code",
   "execution_count": 17,
   "metadata": {},
   "outputs": [
    {
     "name": "stdout",
     "output_type": "stream",
     "text": [
      "This String Will Not Be Lower Case For Long\n",
      "THIS STRING WILL NOT BE LOWER CASE FOR LONG\n",
      "this string will not be lower case for long\n"
     ]
    }
   ],
   "source": [
    "# string.title()\n",
    "text = 'this string will not be lower case for long'\n",
    "new_text = text.title()\n",
    "print(new_text)\n",
    "\n",
    "upper = text.upper()\n",
    "print(upper)\n",
    "\n",
    "lower = text.lower()\n",
    "print(lower)"
   ]
  },
  {
   "cell_type": "markdown",
   "metadata": {},
   "source": [
    "### String Exercise <br>\n",
    "<p>Strip all white space and capitalize every name in the list given</p>"
   ]
  },
  {
   "cell_type": "code",
   "execution_count": 24,
   "metadata": {},
   "outputs": [
    {
     "name": "stdout",
     "output_type": "stream",
     "text": [
      "CONNOR\n",
      "MAX\n",
      "EVAN\n",
      "JORDAN\n"
     ]
    }
   ],
   "source": [
    "names = ['    coNNor', 'max', ' EVan ', 'JORDAN']\n",
    "# HINT: You will need to use a for loop for iteration\n",
    "\n",
    "\n",
    "for name in names:\n",
    "    newName = name.strip()\n",
    "    print(newName.upper())\n"
   ]
  },
  {
   "cell_type": "markdown",
   "metadata": {},
   "source": [
    "### Working With Lists"
   ]
  },
  {
   "attachments": {},
   "cell_type": "markdown",
   "metadata": {},
   "source": [
    "##### min() - returns the item with the lowest value, or the item with the lowest value in an iterable."
   ]
  },
  {
   "cell_type": "code",
   "execution_count": 2,
   "metadata": {},
   "outputs": [
    {
     "name": "stdout",
     "output_type": "stream",
     "text": [
      "-6\n"
     ]
    }
   ],
   "source": [
    "# min(list)\n",
    "alist = [1,2,3,4,-6,5,6,7,8,9]\n",
    "\n",
    "lowest = min(alist)\n",
    "\n",
    "print(lowest)"
   ]
  },
  {
   "attachments": {},
   "cell_type": "markdown",
   "metadata": {},
   "source": [
    "##### max() - returns the item with the highest value, or the item with the highest value in an iterable."
   ]
  },
  {
   "cell_type": "code",
   "execution_count": 3,
   "metadata": {},
   "outputs": [
    {
     "name": "stdout",
     "output_type": "stream",
     "text": [
      "9\n"
     ]
    }
   ],
   "source": [
    "# max(list)\n",
    "\n",
    "largest = max(alist)\n",
    "\n",
    "print(largest)\n"
   ]
  },
  {
   "attachments": {},
   "cell_type": "markdown",
   "metadata": {},
   "source": [
    "##### sum() - returns a number, the sum of all items in an iterable."
   ]
  },
  {
   "cell_type": "code",
   "execution_count": 4,
   "metadata": {},
   "outputs": [
    {
     "name": "stdout",
     "output_type": "stream",
     "text": [
      "39\n"
     ]
    }
   ],
   "source": [
    "# sum(list)\n",
    "alist = [1,2,3,4,-6,5,6,7,8,9]\n",
    "\n",
    "total = sum(alist)\n",
    "\n",
    "print(total)"
   ]
  },
  {
   "attachments": {},
   "cell_type": "markdown",
   "metadata": {},
   "source": [
    "##### sorted() - returns a sorted list of the specified iterable object."
   ]
  },
  {
   "cell_type": "code",
   "execution_count": 8,
   "metadata": {},
   "outputs": [
    {
     "name": "stdout",
     "output_type": "stream",
     "text": [
      "[9, 8, 7, 6, 5, 4, 3, 2, 1, -6]\n",
      "[1, 2, 3, 4, -6, 5, 6, 7, 8, 9]\n"
     ]
    }
   ],
   "source": [
    "# sorted(list)\n",
    "# sorted does not effect the original list, it returns a copy\n",
    "# can pass argument to reverse sorted order\n",
    "\n",
    "alist = [1,2,3,4,-6,5,6,7,8,9]\n",
    "sorted_list = sorted(alist, reverse = True)\n",
    "\n",
    "print(sorted_list)\n",
    "print(alist)\n",
    "\n",
    "\n"
   ]
  },
  {
   "cell_type": "markdown",
   "metadata": {},
   "source": [
    "##### .sort() <br>\n",
    "<p>Difference between sort and sorted, is that sorted doesn't change original list it returns a copy, while .sort changes the original list</p>"
   ]
  },
  {
   "cell_type": "code",
   "execution_count": 10,
   "metadata": {},
   "outputs": [
    {
     "name": "stdout",
     "output_type": "stream",
     "text": [
      "[-6, 1, 2, 3, 4, 5, 6, 7, 8, 9]\n",
      "None\n"
     ]
    }
   ],
   "source": [
    "# list.sort()\n",
    "# use sorted when you don't want to alter original list, use .sort() when you want to alter original list\n",
    "\n",
    "alist = [1,2,3,4,-6,5,6,7,8,9]\n",
    "\n",
    "alist.sort()\n",
    "\n",
    "print(alist)\n",
    "\n",
    "blist = alist.sort()\n",
    "\n",
    "print(blist)\n"
   ]
  },
  {
   "cell_type": "markdown",
   "metadata": {},
   "source": [
    "##### Copying a List"
   ]
  },
  {
   "cell_type": "code",
   "execution_count": 14,
   "metadata": {},
   "outputs": [
    {
     "name": "stdout",
     "output_type": "stream",
     "text": [
      "['Sam', 'Omar', 'Jyustin', 'Mitchell', 'Oakland']\n",
      "['Sam', 'Omar', 'Jyustin', 'Mitchell', 'Oakland']\n",
      "['Sam', 'Omar', 'Jyustin', 'Mitchell', 'Oakland']\n"
     ]
    }
   ],
   "source": [
    "# [:] copies a list, doesn't alter original\n",
    "# .copy() method\n",
    "\n",
    "stus = ['Sam', 'Omar', 'Jyustin' ,'Mitchell' , 'Oakland']\n",
    "print(stus)\n",
    "\n",
    "new_stus = stus[:]\n",
    "print(new_stus)\n",
    "\n",
    "method_copy = stus.copy()\n",
    "print(method_copy)"
   ]
  },
  {
   "cell_type": "markdown",
   "metadata": {},
   "source": [
    "##### Checking an Empty List"
   ]
  },
  {
   "cell_type": "code",
   "execution_count": 18,
   "metadata": {},
   "outputs": [
    {
     "name": "stdout",
     "output_type": "stream",
     "text": [
      "We've got somethin\n"
     ]
    }
   ],
   "source": [
    "# if list1: or if list1 == []:\n",
    "mylist = ['g']\n",
    "\n",
    "if mylist:\n",
    "    print(\"We've got somethin\")\n",
    "else:\n",
    "    print(\"nothin here\")\n"
   ]
  },
  {
   "cell_type": "markdown",
   "metadata": {},
   "source": [
    "##### Removing Instances with a Loop"
   ]
  },
  {
   "cell_type": "code",
   "execution_count": 20,
   "metadata": {},
   "outputs": [
    {
     "name": "stdout",
     "output_type": "stream",
     "text": [
      "removing\n",
      "removing\n",
      "['Dennis', 'SJ', 'Mason']\n"
     ]
    }
   ],
   "source": [
    "# while & for, remove\n",
    "students = ['Dennis', 'Cameron', 'SJ', 'Mason', 'Cameron']\n",
    "\n",
    "# Better option\n",
    "# while \"Cameron\" in students:\n",
    "#   students.remove('Cameron')\n",
    "\n",
    "# print(students)\n",
    "\n",
    "for student in students:\n",
    "  if student == \"Cameron\":\n",
    "    print(\"removing\")\n",
    "    students.remove(\"Cameron\")\n",
    "\n",
    "print(students)"
   ]
  },
  {
   "cell_type": "markdown",
   "metadata": {},
   "source": [
    "### List Exercise <br>\n",
    "<p>Remove all duplicates<br><b>Extra: Create a program that will remove any duplicates from a given list</b></p>"
   ]
  },
  {
   "cell_type": "code",
   "execution_count": 22,
   "metadata": {},
   "outputs": [
    {
     "name": "stdout",
     "output_type": "stream",
     "text": [
      "['connor', 'bob', 'evan', 'max', 'smith', 2, 3, 4, 'kevin']\n"
     ]
    }
   ],
   "source": [
    "names = ['connor', 'connor', 'bob', 'connor', 'evan', 'max', 'smith', 2, 2, 2, 3, 3, 4, 'bob', 'kevin']\n",
    "# Hint 1: You will need an append\n",
    "# Hint 2: Using an empty list will make life easier\n",
    "\n",
    "newlist = []\n",
    "\n",
    "for name in names:\n",
    "    if name not in newlist:\n",
    "        newlist.append(name)\n",
    "print(newlist)"
   ]
  },
  {
   "attachments": {},
   "cell_type": "markdown",
   "metadata": {},
   "source": [
    "#### List Comprehension - offers a shorter syntax when you want to create a new list based on the values of an existing list."
   ]
  },
  {
   "attachments": {},
   "cell_type": "markdown",
   "metadata": {},
   "source": [
    "#### Syntax - newlist = [expression for item in iterable if condition == True]\n",
    "##### The return value is a new list, leaving the old list unchanged.\n",
    "##### The condition is like a filter that only accepts the items that valuate to True."
   ]
  },
  {
   "cell_type": "code",
   "execution_count": 25,
   "metadata": {},
   "outputs": [
    {
     "name": "stdout",
     "output_type": "stream",
     "text": [
      "['Mitchell', 'Mitchell', 'Mitchell', 'Mitchell', 'Mitchell', 'Mitchell', 'Mitchell', 'Mitchell', 'Mitchell', 'Mitchell']\n",
      "['Mitchell', 'Mitchell', 'Mitchell', 'Mitchell', 'Mitchell', 'Mitchell', 'Mitchell', 'Mitchell', 'Mitchell', 'Mitchell']\n"
     ]
    }
   ],
   "source": [
    "# number list comprehension\n",
    "\n",
    "# With a regular for loop\n",
    "meList = []\n",
    "\n",
    "for me in range(10):\n",
    "    meList.append(\"Mitchell\")\n",
    "\n",
    "print(meList)\n",
    "# List Comprehension\n",
    "listComprehension = [\"Mitchell\" for me in range(10)]\n",
    "\n",
    "print(listComprehension)\n"
   ]
  },
  {
   "attachments": {},
   "cell_type": "markdown",
   "metadata": {},
   "source": [
    "There are a few benefits to using List comprehensions. The most obvious would be that we now have shorter code to work with instead of using 3+ lines of code in the for loop variant.\n",
    "\n",
    "More time-efficient and space-efficient than loops.\n",
    "\n",
    "Lastly, list comprehensions are considered the \"pythonic\" way to write code."
   ]
  },
  {
   "cell_type": "code",
   "execution_count": 26,
   "metadata": {},
   "outputs": [
    {
     "name": "stdout",
     "output_type": "stream",
     "text": [
      "[0, 1, 4, 9, 16, 25, 36, 49, 64, 81]\n"
     ]
    }
   ],
   "source": [
    "# square number list comprehension\n",
    "\n",
    "# With a reg for loop\n",
    "squares = []\n",
    "for num in range(10):\n",
    "    squares.append(num**2)\n",
    "\n",
    "print(squares)\n",
    "\n",
    "# List Comprehension\n",
    "\n",
    "# var = [add this  |  for each num | in a alist]\n",
    "newSquares = [num**2 for num in range(90,100)]\n",
    "print(newSquares)\n"
   ]
  },
  {
   "cell_type": "code",
   "execution_count": 31,
   "metadata": {},
   "outputs": [
    {
     "name": "stdout",
     "output_type": "stream",
     "text": [
      "['Dennis', 'Cameron', 'Sj', 'Mason', 'Dylan']\n",
      "['Dennis', 'Cameron', 'Sj', 'Mason', 'Dylan']\n"
     ]
    }
   ],
   "source": [
    "# string list comprehension\n",
    "students = ['DenNis', 'CAmeron', 'SJ', 'MasoN', 'DylAn']\n",
    "\n",
    "# With a reg for loop\n",
    "corrected = []\n",
    "for student in students:\n",
    "    corrected.append(student.title())\n",
    "\n",
    "print(corrected)\n",
    "\n",
    "# List Comprehension\n",
    "listCompCorrect = [student.title() for student in students]\n",
    "print(listCompCorrect)"
   ]
  },
  {
   "attachments": {},
   "cell_type": "markdown",
   "metadata": {},
   "source": [
    "### Tuples - Collection which is ordered, unchangeable, and allow duplicate values."
   ]
  },
  {
   "cell_type": "code",
   "execution_count": 34,
   "metadata": {},
   "outputs": [
    {
     "name": "stdout",
     "output_type": "stream",
     "text": [
      "123\n",
      "345\n",
      "678\n"
     ]
    }
   ],
   "source": [
    "codes = (123, 345, 678)\n",
    "codes2 = [342,4523,254]\n",
    "\n",
    "# for loop with tuple\n",
    "\n",
    "for num in codes:\n",
    "    print(num)"
   ]
  },
  {
   "cell_type": "markdown",
   "metadata": {},
   "source": [
    "##### sorted()"
   ]
  },
  {
   "cell_type": "code",
   "execution_count": 39,
   "metadata": {},
   "outputs": [
    {
     "name": "stdout",
     "output_type": "stream",
     "text": [
      "(678, 123, 345)\n",
      "(123, 345, 678)\n",
      "[123, 345, 678]\n"
     ]
    }
   ],
   "source": [
    "codes = (678, 123, 345)\n",
    "\n",
    "print(codes)\n",
    "\n",
    "newCodes = sorted(codes)\n",
    "\n",
    "print(tuple(newCodes))\n",
    "\n",
    "\n"
   ]
  },
  {
   "cell_type": "markdown",
   "metadata": {},
   "source": [
    "##### Adding values to a Tuple"
   ]
  },
  {
   "cell_type": "code",
   "execution_count": 42,
   "metadata": {},
   "outputs": [
    {
     "name": "stdout",
     "output_type": "stream",
     "text": [
      "1482478011584\n",
      "1482457086656\n",
      "(678, 1223, 345, 123, 876, 543)\n"
     ]
    }
   ],
   "source": [
    "codes = (678, 1223, 345)\n",
    "print(id(codes))\n",
    "\n",
    "newCodes = (123, 876, 543)\n",
    "\n",
    "codes  = codes + newCodes\n",
    "print(id(codes))\n",
    "\n",
    "print(codes)"
   ]
  },
  {
   "cell_type": "markdown",
   "metadata": {},
   "source": [
    "## Functions"
   ]
  },
  {
   "cell_type": "markdown",
   "metadata": {},
   "source": [
    "##### User-Defined vs. Built-In Functions"
   ]
  },
  {
   "cell_type": "code",
   "execution_count": 44,
   "metadata": {},
   "outputs": [
    {
     "name": "stdout",
     "output_type": "stream",
     "text": [
      "<function greeting at 0x0000015929655B80>\n",
      "Hello Friend!\n"
     ]
    }
   ],
   "source": [
    "#User-defined\n",
    "\n",
    "def greeting():\n",
    "    return \"Hello Friend!\"\n",
    "\n",
    "\n",
    "\n",
    "#Built-In print, showing the function in memory\n",
    "print(greeting)\n",
    "\n",
    "#Built-in print, calling the function\n",
    "\n",
    "print(greeting())"
   ]
  },
  {
   "cell_type": "markdown",
   "metadata": {},
   "source": [
    "##### Accepting Parameters"
   ]
  },
  {
   "cell_type": "code",
   "execution_count": 45,
   "metadata": {},
   "outputs": [
    {
     "name": "stdout",
     "output_type": "stream",
     "text": [
      "My full name is mitchell hamm\n"
     ]
    }
   ],
   "source": [
    "# Order matters\n",
    "# A variable can be of any type of object\n",
    "def fullName(firstName, lastName):\n",
    "    return f\"My full name is {firstName} {lastName}\"\n",
    "\n",
    "print(fullName(\"mitchell\", \"hamm\"))"
   ]
  },
  {
   "cell_type": "markdown",
   "metadata": {},
   "source": [
    "##### Default Parameters"
   ]
  },
  {
   "cell_type": "code",
   "execution_count": 48,
   "metadata": {},
   "outputs": [
    {
     "name": "stdout",
     "output_type": "stream",
     "text": [
      "This is the Thieves cohort, taught by Chris and Dylan\n"
     ]
    }
   ],
   "source": [
    "# default parameters need to be AFTER non-default parameters at all times\n",
    "def classInfo(ins2, ins1=\"Christian\", cohort=\"Thieves\"):\n",
    "    return f\"This is the {cohort} cohort, taught by {ins1} and {ins2}\"\n",
    "\n",
    "print(classInfo(\"Dylan\", \"Chris\"))"
   ]
  },
  {
   "cell_type": "markdown",
   "metadata": {},
   "source": [
    "##### Making an Argument Optional"
   ]
  },
  {
   "cell_type": "code",
   "execution_count": 50,
   "metadata": {},
   "outputs": [
    {
     "name": "stdout",
     "output_type": "stream",
     "text": [
      "Mitchell 'The Hammer' Hamm\n"
     ]
    }
   ],
   "source": [
    "def nickname(first, last, nickname=''):\n",
    "    if nickname:\n",
    "      print(f\"{first} '{nickname}' {last}\")\n",
    "    else:\n",
    "       print(f\"{first} {last}\") \n",
    "\n",
    "nickname(\"Mitchell\", \"Hamm\", \"The Hammer\")"
   ]
  },
  {
   "cell_type": "markdown",
   "metadata": {},
   "source": [
    "# Creating a start, stop, step function"
   ]
  },
  {
   "cell_type": "code",
   "execution_count": 52,
   "metadata": {},
   "outputs": [
    {
     "name": "stdout",
     "output_type": "stream",
     "text": [
      "[0, 1, 2, 3, 4, 5, 6, 7, 8, 9]\n"
     ]
    }
   ],
   "source": [
    "def myRange(stop, start=0, step=1):\n",
    "    output = []\n",
    "    for num in range(start, stop, step):\n",
    "        output.append(num)\n",
    "\n",
    "    return(output)\n",
    "\n",
    "print(myRange(10))"
   ]
  },
  {
   "cell_type": "markdown",
   "metadata": {},
   "source": [
    "##### Returning Values"
   ]
  },
  {
   "cell_type": "code",
   "execution_count": 54,
   "metadata": {},
   "outputs": [
    {
     "name": "stdout",
     "output_type": "stream",
     "text": [
      "<function greeting at 0x00000159294D29D0>\n",
      "Helloo\n"
     ]
    }
   ],
   "source": [
    "# see above\n",
    "\n",
    "def greeting():\n",
    "    return \"Hello\"\n",
    "\n",
    "def greeting2():\n",
    "    print(\"Helloo\")\n",
    "\n",
    "print(greeting())\n",
    "greeting2()"
   ]
  },
  {
   "attachments": {},
   "cell_type": "markdown",
   "metadata": {},
   "source": [
    "##### *args/**kwargs (A.K.A. KeyWord Arguments)##### *args"
   ]
  },
  {
   "cell_type": "code",
   "execution_count": 56,
   "metadata": {},
   "outputs": [
    {
     "name": "stdout",
     "output_type": "stream",
     "text": [
      "This the thieves cohort\n",
      "taught by Christian and Dylan\n",
      "Our students are: \n",
      "Sam\n",
      "Omar\n",
      "Justin\n",
      "Oakland\n",
      "Hi my name is Mitchell\n",
      "This is my routine:\n",
      "{'morning': 'Wake up and go to work', 'midday': 'eat', 'evening': 'Play Video'}\n"
     ]
    }
   ],
   "source": [
    "# *args = unlimited amount of arguments, function stores as tuple\n",
    "# **kwargs = unlimited amount of keyword arguments, function stores as dictionary\n",
    "\n",
    "def thieves(ins1, ins2, *students):\n",
    "    print(\"This the thieves cohort\")\n",
    "    print(f\"taught by {ins1} and {ins2}\")\n",
    "    print(f\"Our students are: \")\n",
    "    for student in students:\n",
    "        print(student)\n",
    "\n",
    "thieves(\"Christian\", \"Dylan\", \"Sam\", \"Omar\", \"Justin\", \"Oakland\")\n",
    "\n",
    "\n",
    "def myRoutine(person, **dailies):\n",
    "    print(f\"Hi my name is {person}\")\n",
    "    print(\"This is my routine:\")\n",
    "    print(dailies)\n",
    "\n",
    "myRoutine(\"Mitchell\", morning=\"Wake up and go to work\", midday=\"eat\", evening=\"Play Video\")"
   ]
  },
  {
   "attachments": {},
   "cell_type": "markdown",
   "metadata": {},
   "source": [
    "##### Docstring - Multi-line Comment"
   ]
  },
  {
   "cell_type": "code",
   "execution_count": 57,
   "metadata": {},
   "outputs": [
    {
     "name": "stdout",
     "output_type": "stream",
     "text": [
      "3\n",
      "Help on function adding in module __main__:\n",
      "\n",
      "adding(x, y)\n",
      "    This Function takes in 2 integers, \n",
      "    adds them and returns the sum\n",
      "\n"
     ]
    }
   ],
   "source": [
    "# Allows you to write documentation for user-defined functions\n",
    "def adding(x, y):\n",
    "    '''\n",
    "      This Function takes in 2 integers, \n",
    "      adds them and returns the sum\n",
    "    '''\n",
    "\n",
    "    return x + y\n",
    "\n",
    "print(adding(1, 2))\n",
    "\n",
    "help(adding)"
   ]
  },
  {
   "cell_type": "markdown",
   "metadata": {},
   "source": [
    "##### Using a User Function in a Loop"
   ]
  },
  {
   "cell_type": "code",
   "execution_count": 2,
   "metadata": {},
   "outputs": [
    {
     "name": "stdout",
     "output_type": "stream",
     "text": [
      "I love learning\n",
      "I love learning\n",
      "I love learning\n",
      "I love learning\n",
      "I love learning\n",
      "I love learning\n",
      "I love learning\n",
      "I love learning\n",
      "I love learning\n",
      "I love learning\n"
     ]
    }
   ],
   "source": [
    "def add_one(num):\n",
    "    print(\"running inner function\")\n",
    "    return num + 1\n",
    "\n",
    "i = 0\n",
    "while i < 10:\n",
    "    print(\"I love learning\")\n",
    "    i = add_one(i)"
   ]
  },
  {
   "cell_type": "markdown",
   "metadata": {},
   "source": [
    "## Function Exercise <br>\n",
    "<p>Write a function that loops through a list of first_names and a list of last_names, combines the two and return a list of full_names</p>"
   ]
  },
  {
   "cell_type": "code",
   "execution_count": 10,
   "metadata": {},
   "outputs": [
    {
     "data": {
      "text/plain": [
       "['John Coltrane', 'Evan Smith', 'Jordan Williams', 'Max Bell']"
      ]
     },
     "execution_count": 10,
     "metadata": {},
     "output_type": "execute_result"
    }
   ],
   "source": [
    "first_name = ['John', 'Evan', 'Jordan', 'Max']\n",
    "last_name = ['Coltrane', 'Smith', 'Williams', 'Bell']\n",
    "\n",
    "# Output: ['John Coltrane', 'Evan Smith', 'Jordan Williams', 'Max Bell']\n",
    "\n",
    "def fullNames(firsts, lasts):\n",
    "    fulls = []\n",
    "    counter = 0\n",
    "    for first in firsts:\n",
    "      fulls.append(first + \" \" + lasts[counter]) \n",
    "      counter += 1\n",
    "    return fulls\n",
    "\n",
    "fullNames(first_name, last_name)\n",
    "\n"
   ]
  },
  {
   "attachments": {},
   "cell_type": "markdown",
   "metadata": {},
   "source": [
    "## Scope <br>\n",
    "<p>Scope refers to the ability to access variables, different types of scope include:<br>a) Global<br>b) Function (local)</p>"
   ]
  },
  {
   "cell_type": "code",
   "execution_count": 5,
   "metadata": {},
   "outputs": [
    {
     "name": "stdout",
     "output_type": "stream",
     "text": [
      "1\n",
      "2\n"
     ]
    }
   ],
   "source": [
    "# Global\n",
    "\n",
    "# num = 10\n",
    "\n",
    "# # Local\n",
    "\n",
    "# def locals():\n",
    "#     counter = 1\n",
    "#     print(counter)\n",
    "#     if num == 10:\n",
    "#         counter += 1\n",
    "#     else:\n",
    "#         print(\"new else scope\")\n",
    "#     while counter < 10:\n",
    "#         if num == 10:\n",
    "            \n",
    "\n",
    "# print(locals())"
   ]
  },
  {
   "cell_type": "markdown",
   "metadata": {},
   "source": [
    "# Exercises"
   ]
  },
  {
   "cell_type": "markdown",
   "metadata": {},
   "source": [
    "## Exercise 1 <br>\n",
    "<p>Given a list as a parameter,write a function that returns a list of numbers that are less than ten</b></i></p><br>\n",
    "<p> For example: Say your input parameter to the function is [1,11,14,5,8,9]...Your output should [1,5,8,9]</p>"
   ]
  },
  {
   "cell_type": "code",
   "execution_count": 12,
   "metadata": {},
   "outputs": [
    {
     "data": {
      "text/plain": [
       "[1, 5, 8, 9]"
      ]
     },
     "execution_count": 12,
     "metadata": {},
     "output_type": "execute_result"
    }
   ],
   "source": [
    "# Use the following list - [1,11,14,5,8,9]\n",
    "\n",
    "l_1 = [1,11,14,5,8,9]\n",
    "\n",
    "def lessThan10List(firstList):\n",
    "    newList = []\n",
    "    for num in firstList:\n",
    "        if num < 10:\n",
    "            newList.append(num)\n",
    "    return newList\n",
    "\n",
    "print(lessThan10List(l_1))\n"
   ]
  },
  {
   "cell_type": "markdown",
   "metadata": {},
   "source": [
    "## Exercise 2 <br>\n",
    "<p>Write a function that takes in two lists and returns the two lists merged together and sorted<br>\n",
    "<b><i>Hint: You can use the .sort() method</i></b></p>"
   ]
  },
  {
   "cell_type": "code",
   "execution_count": 15,
   "metadata": {},
   "outputs": [
    {
     "name": "stdout",
     "output_type": "stream",
     "text": [
      "[1, 2, 3, 3, 4, 4, 5, 5, 6, 6, 7, 8, 10]\n"
     ]
    }
   ],
   "source": [
    "l_1 = [1,2,3,4,5,6]\n",
    "l_2 = [3,4,5,6,7,8,10]\n",
    "\n",
    "def sortLists(list1, list2):\n",
    "    newList = list1 +list2\n",
    "    newList.sort()\n",
    "    return newList\n",
    "    \n",
    "print(sortLists(l_1, l_2))\n"
   ]
  }
 ],
 "metadata": {
  "kernelspec": {
   "display_name": "Python 3",
   "language": "python",
   "name": "python3"
  },
  "language_info": {
   "codemirror_mode": {
    "name": "ipython",
    "version": 3
   },
   "file_extension": ".py",
   "mimetype": "text/x-python",
   "name": "python",
   "nbconvert_exporter": "python",
   "pygments_lexer": "ipython3",
   "version": "3.10.11"
  },
  "vscode": {
   "interpreter": {
    "hash": "aa82987a71ca0339a52998cd22613b0c002bda8349fa32a0cb67ceec3936a2bf"
   }
  }
 },
 "nbformat": 4,
 "nbformat_minor": 2
}
